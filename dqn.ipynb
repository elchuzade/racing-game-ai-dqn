{
 "cells": [
  {
   "cell_type": "markdown",
   "metadata": {},
   "source": [
    "# This notebook is meant to train a Deep Q Network model using keras for a Racing Game Environment"
   ]
  },
  {
   "cell_type": "markdown",
   "metadata": {},
   "source": [
    "### Parameters\n",
    "- Optimizer - Adam\n",
    "- Input State size - 4\n",
    "- Action size - 3\n",
    "- Dense layer 1 - 16 nodes with relu activation\n",
    "- Dense layer 2 - 24 nodes with relu activation\n",
    "- Loss function - MSE, Mean Squere Error\n",
    "- Epochs - 1000\n",
    "- Actions in each epoch - 1000\n",
    "- Batch size - 32"
   ]
  },
  {
   "cell_type": "code",
   "execution_count": null,
   "metadata": {
    "scrolled": true
   },
   "outputs": [],
   "source": [
    "import numpy as np\n",
    "from collections import deque\n",
    "from keras.models import Sequential\n",
    "from keras.layers import Dense\n",
    "from keras.optimizers import Adam\n",
    "import random\n",
    "from main import Game"
   ]
  },
  {
   "cell_type": "code",
   "execution_count": null,
   "metadata": {},
   "outputs": [],
   "source": [
    "# Initializing game environment\n",
    "env = Game()"
   ]
  },
  {
   "cell_type": "code",
   "execution_count": null,
   "metadata": {},
   "outputs": [],
   "source": [
    "# Initializing state size, action size, batch size and episodes\n",
    "state_size = env.constants.STATE_SIZE.value\n",
    "action_size = env.constants.ACTION_SIZE.value\n",
    "batch_size = 32\n",
    "n_episodes = 1000"
   ]
  },
  {
   "cell_type": "code",
   "execution_count": null,
   "metadata": {},
   "outputs": [],
   "source": [
    "# Building a Deep Q Network\n",
    "class DQNAgent:\n",
    "    \n",
    "    def __init__(self, state_size, action_size):\n",
    "        self.state_size = state_size\n",
    "        self.action_size = action_size\n",
    "        # Make a list of memory of size 2000, when adding new values remove oldest values\n",
    "        self.memory = deque(maxlen=2000)\n",
    "        # Discount the future rewards to value the nearest guesses higher\n",
    "        self.gamma = 0.9\n",
    "        # Exploration rate\n",
    "        self.epsilon = 1.0\n",
    "        # Explore at the beginning first then exploit\n",
    "        self.epsilon_decay = 0.995\n",
    "        # Minimum amount of exploration\n",
    "        self.epsilon_min = 0.01\n",
    "        self.learning_rate = 0.001\n",
    "        self.model = self._build_model()\n",
    "        \n",
    "    def _build_model(self):\n",
    "        model = Sequential()\n",
    "        model.add(Dense(16, input_dim = self.state_size, activation='relu'))\n",
    "        model.add(Dense(24, activation='relu'))\n",
    "        model.add(Dense(self.action_size, activation='linear'))\n",
    "        model.compile(loss='mse', optimizer=Adam(lr=self.learning_rate))\n",
    "        return model\n",
    "\n",
    "    def remember(self, state, action, reward, next_sate, done):\n",
    "        # Save all info to the memory deque\n",
    "        self.memory.append((state, action, reward, next_state, done))\n",
    "        \n",
    "    def act(self, state):\n",
    "        # Either explore\n",
    "        if np.random.rand() <= self.epsilon:\n",
    "            return random.randrange(self.action_size)\n",
    "        # Or exploit\n",
    "        act_values = self.model.predict(state)\n",
    "        return np.argmax(act_values[0])\n",
    "    \n",
    "    def replay(self, batch_size):\n",
    "        # Randomly replay some of our memories from deque\n",
    "        minibatch = random.sample(self.memory, batch_size)\n",
    "        for state, action, reward, next_state, done in minibatch:\n",
    "            # If episode has ended future reward is equal to reward\n",
    "            target = reward\n",
    "            if not done:\n",
    "                # Use Neural Network to predict a future reward\n",
    "                target = (reward + self.gamma * np.amax(self.model.predict(next_state)[0]))\n",
    "            target_f = self.model.predict(state)\n",
    "            target_f[0][action] = target\n",
    "            \n",
    "            self.model.fit(state, target_f, epochs=1, verbose=0)\n",
    "            \n",
    "        # Decrease exploration\n",
    "        if self.epsilon > self.epsilon_min:\n",
    "            self.epsilon *= self.epsilon_decay\n",
    "            \n",
    "    def load(self, name):\n",
    "        self.model.load(name)\n",
    "        \n",
    "    def save(self, name):\n",
    "        self.model.save(name)"
   ]
  },
  {
   "cell_type": "code",
   "execution_count": null,
   "metadata": {
    "scrolled": true
   },
   "outputs": [],
   "source": [
    "# Initializing DQN agent\n",
    "agent = DQNAgent(state_size, action_size)"
   ]
  },
  {
   "cell_type": "code",
   "execution_count": null,
   "metadata": {
    "scrolled": true
   },
   "outputs": [],
   "source": [
    "# Trainging agent to play Car Racing game\n",
    "done = False\n",
    "for e in range(n_episodes):\n",
    "    # Resetting environment in each trial\n",
    "    state = env.reset()\n",
    "    # Reshaping state array into shape that neural network accepts\n",
    "    state = np.reshape(state, [1, state_size])\n",
    "    \n",
    "    for time in range(1000):\n",
    "        # Making action based on agent's action policy\n",
    "        action = agent.act(state)\n",
    "\n",
    "        # Performing an action and assinging returned next state and whether the car ahs crashed or not\n",
    "        next_state, done = env.step(action)\n",
    "        # Reshaping next state to save as neural network input\n",
    "        next_state = np.reshape(next_state, [1, state_size])\n",
    "        # If the car has crashed punish wtih -5 points\n",
    "        if done:\n",
    "            reward = -5\n",
    "        else:\n",
    "            # if the car has not crashed check if the car made a redundant move, if made reward with 1 point else reward with 2 points\n",
    "            if action == 1:\n",
    "                reward = 2\n",
    "            else:\n",
    "                reward = 1\n",
    "        # Remember the state - action - reward - next_state - action_result combination for future recalls\n",
    "        agent.remember(state, action, reward, next_state, done)\n",
    "        # Update current state with next_state given after performing an action\n",
    "        state = next_state\n",
    "    # If the agent memory is full replay the memory\n",
    "    if len(agent.memory) > batch_size:\n",
    "        agent.replay(batch_size)"
   ]
  },
  {
   "cell_type": "code",
   "execution_count": null,
   "metadata": {},
   "outputs": [],
   "source": [
    "# Save the agent model\n",
    "agent.save(\"model\" + '{:04d}'.format(e) + \".h5\")"
   ]
  },
  {
   "cell_type": "code",
   "execution_count": null,
   "metadata": {
    "scrolled": true
   },
   "outputs": [],
   "source": [
    "# Observe the agent play the game\n",
    "env.play_model(\"model\" + '{:04d}'.format(e) + \".h5\")"
   ]
  },
  {
   "cell_type": "code",
   "execution_count": null,
   "metadata": {},
   "outputs": [],
   "source": []
  }
 ],
 "metadata": {
  "kernelspec": {
   "display_name": "Python 3",
   "language": "python",
   "name": "python3"
  },
  "language_info": {
   "codemirror_mode": {
    "name": "ipython",
    "version": 3
   },
   "file_extension": ".py",
   "mimetype": "text/x-python",
   "name": "python",
   "nbconvert_exporter": "python",
   "pygments_lexer": "ipython3",
   "version": "3.7.4"
  }
 },
 "nbformat": 4,
 "nbformat_minor": 2
}
